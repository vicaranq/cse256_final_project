{
 "cells": [
  {
   "cell_type": "code",
   "execution_count": 1,
   "metadata": {},
   "outputs": [
    {
     "name": "stderr",
     "output_type": "stream",
     "text": [
      "c:\\Users\\amado\\anaconda3\\envs\\cse1\\lib\\site-packages\\tqdm\\auto.py:21: TqdmWarning: IProgress not found. Please update jupyter and ipywidgets. See https://ipywidgets.readthedocs.io/en/stable/user_install.html\n",
      "  from .autonotebook import tqdm as notebook_tqdm\n",
      "The cache for model files in Transformers v4.22.0 has been updated. Migrating your old cache. This is a one-time only operation. You can interrupt this and resume the migration later on by calling `transformers.utils.move_cache()`.\n",
      "0it [00:00, ?it/s]\n"
     ]
    }
   ],
   "source": [
    "import pandas as pd\n",
    "import json\n",
    "import torch\n",
    "import random\n",
    "from pathlib import Path\n",
    "from pandas import json_normalize\n",
    "from transformers import AutoTokenizer, AutoModel, AdamW\n",
    "from helpers import tokenize_and_format, flat_accuracy"
   ]
  },
  {
   "cell_type": "code",
   "execution_count": 2,
   "metadata": {},
   "outputs": [],
   "source": [
    "files = {\n",
    "    \"train\": Path(\"LegalSupport\", \"train.jsonl\"),\n",
    "    \"dev\": Path(\"LegalSupport\", \"dev.jsonl\"),\n",
    "    \"test\": Path(\"LegalSupport\", \"test.jsonl\")\n",
    "}"
   ]
  },
  {
   "cell_type": "code",
   "execution_count": 3,
   "metadata": {},
   "outputs": [
    {
     "data": {
      "text/html": [
       "<div>\n",
       "<style scoped>\n",
       "    .dataframe tbody tr th:only-of-type {\n",
       "        vertical-align: middle;\n",
       "    }\n",
       "\n",
       "    .dataframe tbody tr th {\n",
       "        vertical-align: top;\n",
       "    }\n",
       "\n",
       "    .dataframe thead th {\n",
       "        text-align: right;\n",
       "    }\n",
       "</style>\n",
       "<table border=\"1\" class=\"dataframe\">\n",
       "  <thead>\n",
       "    <tr style=\"text-align: right;\">\n",
       "      <th></th>\n",
       "      <th>context</th>\n",
       "      <th>citation_a</th>\n",
       "      <th>citation_b</th>\n",
       "      <th>case_id</th>\n",
       "      <th>label</th>\n",
       "    </tr>\n",
       "  </thead>\n",
       "  <tbody>\n",
       "    <tr>\n",
       "      <th>0</th>\n",
       "      <td>Witnesses are absolutely immune for the testim...</td>\n",
       "      <td>{'signal': 'see also', 'identifier': '25 F.3d ...</td>\n",
       "      <td>{'signal': 'but see', 'identifier': '17 F.3d 1...</td>\n",
       "      <td>11529769</td>\n",
       "      <td>a</td>\n",
       "    </tr>\n",
       "    <tr>\n",
       "      <th>1</th>\n",
       "      <td>We exercise de novo review over a district cou...</td>\n",
       "      <td>{'signal': 'see', 'identifier': '489 F.2d 661,...</td>\n",
       "      <td>{'signal': 'see also', 'identifier': '237 F.3d...</td>\n",
       "      <td>3821705</td>\n",
       "      <td>a</td>\n",
       "    </tr>\n",
       "    <tr>\n",
       "      <th>2</th>\n",
       "      <td>We do not, at this time, reach the merits of t...</td>\n",
       "      <td>{'signal': 'no signal', 'identifier': '859 F.2...</td>\n",
       "      <td>{'signal': 'see', 'identifier': '884 F.2d 879,...</td>\n",
       "      <td>11644198</td>\n",
       "      <td>a</td>\n",
       "    </tr>\n",
       "    <tr>\n",
       "      <th>3</th>\n",
       "      <td>We do not, at this time, reach the merits of t...</td>\n",
       "      <td>{'signal': 'no signal', 'identifier': None, 'p...</td>\n",
       "      <td>{'signal': 'see', 'identifier': '884 F.2d 879,...</td>\n",
       "      <td>11644198</td>\n",
       "      <td>a</td>\n",
       "    </tr>\n",
       "    <tr>\n",
       "      <th>4</th>\n",
       "      <td>We do not, at this time, reach the merits of t...</td>\n",
       "      <td>{'signal': 'no signal', 'identifier': None, 'p...</td>\n",
       "      <td>{'signal': 'see', 'identifier': '884 F.2d 879,...</td>\n",
       "      <td>11644198</td>\n",
       "      <td>a</td>\n",
       "    </tr>\n",
       "  </tbody>\n",
       "</table>\n",
       "</div>"
      ],
      "text/plain": [
       "                                             context  \\\n",
       "0  Witnesses are absolutely immune for the testim...   \n",
       "1  We exercise de novo review over a district cou...   \n",
       "2  We do not, at this time, reach the merits of t...   \n",
       "3  We do not, at this time, reach the merits of t...   \n",
       "4  We do not, at this time, reach the merits of t...   \n",
       "\n",
       "                                          citation_a  \\\n",
       "0  {'signal': 'see also', 'identifier': '25 F.3d ...   \n",
       "1  {'signal': 'see', 'identifier': '489 F.2d 661,...   \n",
       "2  {'signal': 'no signal', 'identifier': '859 F.2...   \n",
       "3  {'signal': 'no signal', 'identifier': None, 'p...   \n",
       "4  {'signal': 'no signal', 'identifier': None, 'p...   \n",
       "\n",
       "                                          citation_b   case_id label  \n",
       "0  {'signal': 'but see', 'identifier': '17 F.3d 1...  11529769     a  \n",
       "1  {'signal': 'see also', 'identifier': '237 F.3d...   3821705     a  \n",
       "2  {'signal': 'see', 'identifier': '884 F.2d 879,...  11644198     a  \n",
       "3  {'signal': 'see', 'identifier': '884 F.2d 879,...  11644198     a  \n",
       "4  {'signal': 'see', 'identifier': '884 F.2d 879,...  11644198     a  "
      ]
     },
     "execution_count": 3,
     "metadata": {},
     "output_type": "execute_result"
    }
   ],
   "source": [
    "df = pd.read_json(files[\"train\"], lines=True).explode(\"label\")\n",
    "df.head()"
   ]
  },
  {
   "cell_type": "code",
   "execution_count": 4,
   "metadata": {},
   "outputs": [],
   "source": [
    "df[\"citation\"] = df.apply(lambda a: a[\"citation_a\"] if a[\"label\"] == \"a\" else a[\"citation_b\"], axis=1)\n",
    "df = df.drop([\"citation_a\", \"citation_b\", \"label\"], axis=1)"
   ]
  },
  {
   "cell_type": "code",
   "execution_count": 5,
   "metadata": {},
   "outputs": [
    {
     "data": {
      "text/plain": [
       "{'signal': 'see also',\n",
       " 'identifier': '25 F.3d 83, 83',\n",
       " 'parenthetical': 'holding that while witnesses enjoy absolute immunity for their actions in testifying they are not immune for extra-judicial actions such as an alleged conspiracy to present false testimony',\n",
       " 'sentence': 'Malachowski, 787 F.2d at 712; see also Dory, 25 F.3d at 83 (holding that while witnesses enjoy absolute immunity for their actions in testifying they are not immune for extra-judicial actions such as an alleged conspiracy to present false testimony).'}"
      ]
     },
     "execution_count": 5,
     "metadata": {},
     "output_type": "execute_result"
    }
   ],
   "source": [
    "df.loc[0, \"citation\"]"
   ]
  },
  {
   "cell_type": "code",
   "execution_count": 6,
   "metadata": {},
   "outputs": [
    {
     "data": {
      "text/plain": [
       "array([11529769,  3821705, 11644198, ...,  3642473,   246165,   243105],\n",
       "      dtype=int64)"
      ]
     },
     "execution_count": 6,
     "metadata": {},
     "output_type": "execute_result"
    }
   ],
   "source": [
    "df[\"case_id\"].unique()"
   ]
  },
  {
   "cell_type": "code",
   "execution_count": 7,
   "metadata": {},
   "outputs": [
    {
     "data": {
      "text/plain": [
       "{'signal': 'see also',\n",
       " 'identifier': '25 F.3d 83, 83',\n",
       " 'parenthetical': 'holding that while witnesses enjoy absolute immunity for their actions in testifying they are not immune for extra-judicial actions such as an alleged conspiracy to present false testimony',\n",
       " 'sentence': 'Malachowski, 787 F.2d at 712; see also Dory, 25 F.3d at 83 (holding that while witnesses enjoy absolute immunity for their actions in testifying they are not immune for extra-judicial actions such as an alleged conspiracy to present false testimony).'}"
      ]
     },
     "execution_count": 7,
     "metadata": {},
     "output_type": "execute_result"
    }
   ],
   "source": [
    "df.iloc[0,-1]"
   ]
  },
  {
   "cell_type": "code",
   "execution_count": 8,
   "metadata": {},
   "outputs": [
    {
     "data": {
      "text/html": [
       "<div>\n",
       "<style scoped>\n",
       "    .dataframe tbody tr th:only-of-type {\n",
       "        vertical-align: middle;\n",
       "    }\n",
       "\n",
       "    .dataframe tbody tr th {\n",
       "        vertical-align: top;\n",
       "    }\n",
       "\n",
       "    .dataframe thead th {\n",
       "        text-align: right;\n",
       "    }\n",
       "</style>\n",
       "<table border=\"1\" class=\"dataframe\">\n",
       "  <thead>\n",
       "    <tr style=\"text-align: right;\">\n",
       "      <th></th>\n",
       "      <th>context</th>\n",
       "      <th>case_id</th>\n",
       "      <th>signal</th>\n",
       "      <th>identifier</th>\n",
       "      <th>parenthetical</th>\n",
       "      <th>sentence</th>\n",
       "    </tr>\n",
       "  </thead>\n",
       "  <tbody>\n",
       "    <tr>\n",
       "      <th>0</th>\n",
       "      <td>Witnesses are absolutely immune for the testim...</td>\n",
       "      <td>11529769</td>\n",
       "      <td>see also</td>\n",
       "      <td>25 F.3d 83, 83</td>\n",
       "      <td>holding that while witnesses enjoy absolute im...</td>\n",
       "      <td>Malachowski, 787 F.2d at 712; see also Dory, 2...</td>\n",
       "    </tr>\n",
       "    <tr>\n",
       "      <th>1</th>\n",
       "      <td>We exercise de novo review over a district cou...</td>\n",
       "      <td>3821705</td>\n",
       "      <td>see</td>\n",
       "      <td>489 F.2d 661, 662-63</td>\n",
       "      <td>conducting a de novo review in determining the...</td>\n",
       "      <td>See Barrows v. Barrows, 489 F.2d 661, 662-63 (...</td>\n",
       "    </tr>\n",
       "    <tr>\n",
       "      <th>2</th>\n",
       "      <td>We do not, at this time, reach the merits of t...</td>\n",
       "      <td>11644198</td>\n",
       "      <td>no signal</td>\n",
       "      <td>859 F.2d 842, 844</td>\n",
       "      <td>recognizing federal court's duty to determine ...</td>\n",
       "      <td>Auto. Ass’n, 859 F.2d 842, 844 (10th Cir. 1988...</td>\n",
       "    </tr>\n",
       "    <tr>\n",
       "      <th>3</th>\n",
       "      <td>We do not, at this time, reach the merits of t...</td>\n",
       "      <td>11644198</td>\n",
       "      <td>no signal</td>\n",
       "      <td>None</td>\n",
       "      <td>recognizing federal court's duty to determine ...</td>\n",
       "      <td>Auto. Ass’n, 859 F.2d 842, 844 (10th Cir. 1988...</td>\n",
       "    </tr>\n",
       "    <tr>\n",
       "      <th>4</th>\n",
       "      <td>We do not, at this time, reach the merits of t...</td>\n",
       "      <td>11644198</td>\n",
       "      <td>no signal</td>\n",
       "      <td>None</td>\n",
       "      <td>recognizing federal court's duty to determine ...</td>\n",
       "      <td>Auto. Ass’n, 859 F.2d 842, 844 (10th Cir. 1988...</td>\n",
       "    </tr>\n",
       "  </tbody>\n",
       "</table>\n",
       "</div>"
      ],
      "text/plain": [
       "                                             context   case_id     signal  \\\n",
       "0  Witnesses are absolutely immune for the testim...  11529769   see also   \n",
       "1  We exercise de novo review over a district cou...   3821705        see   \n",
       "2  We do not, at this time, reach the merits of t...  11644198  no signal   \n",
       "3  We do not, at this time, reach the merits of t...  11644198  no signal   \n",
       "4  We do not, at this time, reach the merits of t...  11644198  no signal   \n",
       "\n",
       "             identifier                                      parenthetical  \\\n",
       "0        25 F.3d 83, 83  holding that while witnesses enjoy absolute im...   \n",
       "1  489 F.2d 661, 662-63  conducting a de novo review in determining the...   \n",
       "2     859 F.2d 842, 844  recognizing federal court's duty to determine ...   \n",
       "3                  None  recognizing federal court's duty to determine ...   \n",
       "4                  None  recognizing federal court's duty to determine ...   \n",
       "\n",
       "                                            sentence  \n",
       "0  Malachowski, 787 F.2d at 712; see also Dory, 2...  \n",
       "1  See Barrows v. Barrows, 489 F.2d 661, 662-63 (...  \n",
       "2  Auto. Ass’n, 859 F.2d 842, 844 (10th Cir. 1988...  \n",
       "3  Auto. Ass’n, 859 F.2d 842, 844 (10th Cir. 1988...  \n",
       "4  Auto. Ass’n, 859 F.2d 842, 844 (10th Cir. 1988...  "
      ]
     },
     "execution_count": 8,
     "metadata": {},
     "output_type": "execute_result"
    }
   ],
   "source": [
    "df[\"signal\"] = df.apply(lambda a: a[\"citation\"][\"signal\"], axis=1)\n",
    "df[\"identifier\"] = df.apply(lambda a: a[\"citation\"][\"identifier\"], axis=1)\n",
    "df[\"parenthetical\"] = df.apply(lambda a: a[\"citation\"][\"parenthetical\"], axis=1)\n",
    "df[\"sentence\"] = df.apply(lambda a: a[\"citation\"][\"sentence\"], axis=1)\n",
    "df = df.drop([\"citation\"], axis=1)\n",
    "df.head()"
   ]
  },
  {
   "cell_type": "code",
   "execution_count": 9,
   "metadata": {},
   "outputs": [
    {
     "data": {
      "text/html": [
       "<div>\n",
       "<style scoped>\n",
       "    .dataframe tbody tr th:only-of-type {\n",
       "        vertical-align: middle;\n",
       "    }\n",
       "\n",
       "    .dataframe tbody tr th {\n",
       "        vertical-align: top;\n",
       "    }\n",
       "\n",
       "    .dataframe thead th {\n",
       "        text-align: right;\n",
       "    }\n",
       "</style>\n",
       "<table border=\"1\" class=\"dataframe\">\n",
       "  <thead>\n",
       "    <tr style=\"text-align: right;\">\n",
       "      <th></th>\n",
       "      <th>text</th>\n",
       "      <th>label</th>\n",
       "    </tr>\n",
       "  </thead>\n",
       "  <tbody>\n",
       "    <tr>\n",
       "      <th>0</th>\n",
       "      <td>Witnesses are absolutely immune for the testim...</td>\n",
       "      <td>holding that while witnesses enjoy absolute im...</td>\n",
       "    </tr>\n",
       "    <tr>\n",
       "      <th>1</th>\n",
       "      <td>We exercise de novo review over a district cou...</td>\n",
       "      <td>conducting a de novo review in determining the...</td>\n",
       "    </tr>\n",
       "    <tr>\n",
       "      <th>2</th>\n",
       "      <td>We do not, at this time, reach the merits of t...</td>\n",
       "      <td>recognizing federal court's duty to determine ...</td>\n",
       "    </tr>\n",
       "    <tr>\n",
       "      <th>3</th>\n",
       "      <td>We do not, at this time, reach the merits of t...</td>\n",
       "      <td>recognizing federal court's duty to determine ...</td>\n",
       "    </tr>\n",
       "    <tr>\n",
       "      <th>4</th>\n",
       "      <td>We do not, at this time, reach the merits of t...</td>\n",
       "      <td>recognizing federal court's duty to determine ...</td>\n",
       "    </tr>\n",
       "  </tbody>\n",
       "</table>\n",
       "</div>"
      ],
      "text/plain": [
       "                                                text  \\\n",
       "0  Witnesses are absolutely immune for the testim...   \n",
       "1  We exercise de novo review over a district cou...   \n",
       "2  We do not, at this time, reach the merits of t...   \n",
       "3  We do not, at this time, reach the merits of t...   \n",
       "4  We do not, at this time, reach the merits of t...   \n",
       "\n",
       "                                               label  \n",
       "0  holding that while witnesses enjoy absolute im...  \n",
       "1  conducting a de novo review in determining the...  \n",
       "2  recognizing federal court's duty to determine ...  \n",
       "3  recognizing federal court's duty to determine ...  \n",
       "4  recognizing federal court's duty to determine ...  "
      ]
     },
     "execution_count": 9,
     "metadata": {},
     "output_type": "execute_result"
    }
   ],
   "source": [
    "train_df = df[[\"context\", \"parenthetical\"]]\n",
    "train_df = train_df.rename(columns={\"context\": \"text\", \"parenthetical\": \"label\"})\n",
    "train_df.head()"
   ]
  },
  {
   "cell_type": "code",
   "execution_count": 10,
   "metadata": {},
   "outputs": [],
   "source": [
    "train_df.to_csv(\"prel_train_df.csv\")"
   ]
  }
 ],
 "metadata": {
  "kernelspec": {
   "display_name": "ece",
   "language": "python",
   "name": "python3"
  },
  "language_info": {
   "codemirror_mode": {
    "name": "ipython",
    "version": 3
   },
   "file_extension": ".py",
   "mimetype": "text/x-python",
   "name": "python",
   "nbconvert_exporter": "python",
   "pygments_lexer": "ipython3",
   "version": "3.10.11"
  },
  "orig_nbformat": 4
 },
 "nbformat": 4,
 "nbformat_minor": 2
}
