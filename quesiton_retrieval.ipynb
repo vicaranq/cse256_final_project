{
 "cells": [
  {
   "cell_type": "code",
   "execution_count": null,
   "metadata": {},
   "outputs": [],
   "source": [
    "import pandas as pd\n",
    "import json\n",
    "import torch\n",
    "import random\n",
    "import torch\n",
    "import string\n",
    "from datasets import load_dataset, load_metric\n",
    "from transformers import T5ForConditionalGeneration, T5Tokenizer, pipeline\n",
    "from pathlib import Path\n",
    "from pandas import json_normalize\n",
    "from transformers import AutoTokenizer, AutoModel, AdamW\n",
    "from helpers import tokenize_and_format, flat_accuracy\n",
    "import pandas as pd\n",
    "from sklearn.feature_extraction.text import TfidfVectorizer\n",
    "from sklearn.metrics.pairwise import linear_kernel"
   ]
  },
  {
   "cell_type": "code",
   "execution_count": null,
   "metadata": {},
   "outputs": [],
   "source": [
    "df = pd.read_csv(\"train_df.csv\")"
   ]
  },
  {
   "cell_type": "code",
   "execution_count": null,
   "metadata": {},
   "outputs": [],
   "source": [
    "df1 = df.astype(str).apply(lambda x: f\"{x['answer']}, identifier: {x['identifier']}, sentence: {x['sentence']}\", axis=1)"
   ]
  },
  {
   "cell_type": "code",
   "execution_count": null,
   "metadata": {},
   "outputs": [],
   "source": [
    "df = pd.read_csv(\"train_df.csv\")\n",
    "vectorizer = TfidfVectorizer(stop_words='english')\n",
    "tfidf_matrix = vectorizer.fit_transform(df1)\n",
    "\n",
    "def retrieve_documents(query, tfidf_matrix, df):\n",
    "    # Transform the query into the same vector space\n",
    "    query_vector = vectorizer.transform([query])\n",
    "\n",
    "    # Compute cosine similarities between the query and all documents\n",
    "    cosine_similarities = linear_kernel(query_vector, tfidf_matrix).flatten()\n",
    "\n",
    "    # Get the top 5 most similar documents\n",
    "    top_docs_indices = cosine_similarities.argsort()[:-10:-1]\n",
    "\n",
    "    # Return the corresponding documents\n",
    "    return df.iloc[top_docs_indices]"
   ]
  },
  {
   "cell_type": "code",
   "execution_count": null,
   "metadata": {},
   "outputs": [],
   "source": [
    "\n",
    "model_name = \"deepset/roberta-base-squad2\"\n",
    "nlp = pipeline(\"question-answering\", model=model_name)"
   ]
  },
  {
   "cell_type": "code",
   "execution_count": null,
   "metadata": {},
   "outputs": [],
   "source": [
    "question = \"Which sentences treated immunity of a witnesses\" # dataset[\"train\"][\"question\"][6]"
   ]
  },
  {
   "cell_type": "code",
   "execution_count": null,
   "metadata": {},
   "outputs": [],
   "source": [
    "result = nlp(question=question, context=retrieve_documents(question, tfidf_matrix, df1).str.cat(sep='. '))\n",
    "print(result)"
   ]
  },
  {
   "cell_type": "code",
   "execution_count": null,
   "metadata": {},
   "outputs": [],
   "source": [
    "import numpy as np\n",
    "import nltk\n",
    "import pandas as pd\n",
    "import matplotlib.pyplot as plt\n",
    "import pandas as pd\n",
    "from datasets import load_dataset, load_metric\n",
    "import torch\n",
    "nltk.download('punkt')\n",
    "\n",
    "metric = load_metric(\"rouge\")\n",
    "\n",
    "tokenizer = AutoTokenizer.from_pretrained(\"t5-base\")\n",
    "\n",
    "\n",
    "def compute_metrics(eval_pred):\n",
    "    decoded_preds, labels = eval_pred\n",
    "\n",
    "    # Replace -100 in the labels as we can't decode them.\n",
    "    labels = np.where(labels != -100, labels, tokenizer.pad_token_id)\n",
    "    decoded_labels = tokenizer.batch_decode(labels, skip_special_tokens=True)\n",
    "\n",
    "    # Rouge expects a newline after each sentence\n",
    "    decoded_preds = [\"\\n\".join(nltk.sent_tokenize(pred.strip()))\n",
    "                      for pred in decoded_preds]\n",
    "    decoded_labels = [\"\\n\".join(nltk.sent_tokenize(label.strip()))\n",
    "                      for label in decoded_labels]\n",
    "\n",
    "    # Compute ROUGE scores\n",
    "    result = metric.compute(predictions=decoded_preds, references=decoded_labels[:len(decoded_preds)],\n",
    "                            use_stemmer=True)\n",
    "\n",
    "    # Extract ROUGE f1 scores\n",
    "    result = {key: value.mid.fmeasure * 100 for key, value in result.items()}\n",
    "\n",
    "    # Add mean generated length to metrics\n",
    "    # prediction_lens = [np.count_nonzero(pred != tokenizer.pad_token_id)\n",
    "    #                   for pred in predictions]\n",
    "    # result[\"gen_len\"] = np.mean(prediction_lens)\n",
    "\n",
    "    metrics = {k: round(v, 4) for k, v in result.items()}\n",
    "\n",
    "    return metrics"
   ]
  },
  {
   "cell_type": "code",
   "execution_count": null,
   "metadata": {},
   "outputs": [],
   "source": [
    "\n",
    "# prepare dataloader\n",
    "dataset = load_dataset(\"csv\", data_files=\"test_ds.csv\")\n",
    "dataset[\"train\"] = dataset[\"train\"].shuffle().select(range(1000))\n",
    "dataset.set_format(type='torch', columns=['question'])\n",
    "dataloader = torch.utils.data.DataLoader(dataset[\"train\"], batch_size=32)\n",
    "\n",
    "\n",
    "# generate text for each batch\n",
    "all_predictions = []\n",
    "for i,batch in enumerate(dataloader):\n",
    "   print(batch)\n",
    "   predictions = [nlp(question=question, context=retrieve_documents(question, tfidf_matrix, df1).str.cat(sep='. ')) for question in batch[\"question\"]]\n",
    "   print(predictions)\n",
    "   all_predictions.append(predictions)\n",
    "   print(i, end=\"\\r\")\n",
    "   # progress_bar.add(1)\n",
    "\n"
   ]
  },
  {
   "cell_type": "code",
   "execution_count": null,
   "metadata": {},
   "outputs": [],
   "source": [
    "# flatten predictions\n",
    "all_predictions_flattened = [pred for preds in all_predictions for pred in preds]\n",
    "\n",
    "# tokenize and pad titles\n",
    "all_titles = tokenizer(dataset[\"train\"][\"answer\"], max_length=512,\n",
    "                       truncation=True, padding=\"max_length\")[\"input_ids\"]\n",
    "''\n",
    "# compute metrics\n",
    "predictions_labels = [all_predictions_flattened, all_titles]\n",
    "predictions_labels[0] = [pred[\"answer\"] for pred in predictions_labels[0]]\n",
    "compute_metrics(predictions_labels)"
   ]
  },
  {
   "cell_type": "code",
   "execution_count": null,
   "metadata": {},
   "outputs": [],
   "source": [
    "dataset[\"train\"][\"answer\"]"
   ]
  },
  {
   "cell_type": "code",
   "execution_count": null,
   "metadata": {},
   "outputs": [],
   "source": [
    "question = \"What is the immunity of state and regional legislators?\"\n",
    "nlp(question=question, context=retrieve_documents(question, tfidf_matrix, df1).str.cat(sep='. '))"
   ]
  },
  {
   "cell_type": "code",
   "execution_count": null,
   "metadata": {},
   "outputs": [],
   "source": [
    "predictions_labels"
   ]
  },
  {
   "cell_type": "code",
   "execution_count": null,
   "metadata": {},
   "outputs": [],
   "source": []
  }
 ],
 "metadata": {
  "kernelspec": {
   "display_name": "cse1",
   "language": "python",
   "name": "python3"
  },
  "language_info": {
   "codemirror_mode": {
    "name": "ipython",
    "version": 3
   },
   "file_extension": ".py",
   "mimetype": "text/x-python",
   "name": "python",
   "nbconvert_exporter": "python",
   "pygments_lexer": "ipython3",
   "version": "3.10.11"
  },
  "orig_nbformat": 4
 },
 "nbformat": 4,
 "nbformat_minor": 2
}
