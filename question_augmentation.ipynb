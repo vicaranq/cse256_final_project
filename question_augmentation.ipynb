{
 "cells": [
  {
   "cell_type": "code",
   "execution_count": 1,
   "metadata": {},
   "outputs": [
    {
     "name": "stderr",
     "output_type": "stream",
     "text": [
      "c:\\Users\\amado\\anaconda3\\envs\\cse1\\lib\\site-packages\\tqdm\\auto.py:21: TqdmWarning: IProgress not found. Please update jupyter and ipywidgets. See https://ipywidgets.readthedocs.io/en/stable/user_install.html\n",
      "  from .autonotebook import tqdm as notebook_tqdm\n"
     ]
    }
   ],
   "source": [
    "import pandas as pd\n",
    "import json\n",
    "import torch\n",
    "import random\n",
    "import torch\n",
    "import tensorflow as tf\n",
    "from transformers import T5ForConditionalGeneration,T5Tokenizer\n",
    "from pathlib import Path\n",
    "from pandas import json_normalize\n",
    "from transformers import AutoTokenizer, AutoModel, AdamW, AutoModelForSeq2SeqLM\n",
    "from helpers import tokenize_and_format, flat_accuracy"
   ]
  },
  {
   "cell_type": "code",
   "execution_count": 59,
   "metadata": {},
   "outputs": [
    {
     "data": {
      "text/plain": [
       "13862"
      ]
     },
     "execution_count": 59,
     "metadata": {},
     "output_type": "execute_result"
    }
   ],
   "source": [
    "files = {\n",
    "    \"train\": Path(\"LegalSupport\", \"train.jsonl\"),\n",
    "    \"dev\": Path(\"LegalSupport\", \"dev.jsonl\"),\n",
    "    \"test\": Path(\"LegalSupport\", \"test.jsonl\")\n",
    "}\n",
    "df = pd.read_json(files[\"train\"], lines=True).explode(\"label\")\n",
    "df[\"citation\"] = df.apply(lambda a: a[\"citation_a\"] if a[\"label\"] == \"a\" else a[\"citation_b\"], axis=1)\n",
    "df = df.drop([\"citation_a\", \"citation_b\", \"label\"], axis=1)\n",
    "df.loc[0, \"citation\"]\n",
    "df[\"signal\"] = df.apply(lambda a: a[\"citation\"][\"signal\"], axis=1)\n",
    "df[\"identifier\"] = df.apply(lambda a: a[\"citation\"][\"identifier\"], axis=1)\n",
    "df[\"parenthetical\"] = df.apply(lambda a: a[\"citation\"][\"parenthetical\"], axis=1)\n",
    "df[\"sentence\"] = df.apply(lambda a: a[\"citation\"][\"sentence\"], axis=1)\n",
    "df = df.drop([\"citation\"], axis=1)\n",
    "train_df = df\n",
    "# train_df = df[[\"context\", \"parenthetical\"]]\n",
    "train_df = train_df.rename(columns={\"context\": \"text\", \"parenthetical\": \"label\"})\n",
    "len(train_df)"
   ]
  },
  {
   "cell_type": "code",
   "execution_count": 61,
   "metadata": {},
   "outputs": [
    {
     "data": {
      "text/plain": [
       "'conducting a de novo review in determining the enforceability of a foreign judgment'"
      ]
     },
     "execution_count": 61,
     "metadata": {},
     "output_type": "execute_result"
    }
   ],
   "source": [
    "train_df.drop_duplicates().iloc[1,4]"
   ]
  },
  {
   "cell_type": "code",
   "execution_count": null,
   "metadata": {},
   "outputs": [],
   "source": []
  },
  {
   "cell_type": "code",
   "execution_count": 37,
   "metadata": {},
   "outputs": [
    {
     "name": "stdout",
     "output_type": "stream",
     "text": [
      "cuda:0\n"
     ]
    }
   ],
   "source": [
    "# Question augmentation\n",
    "import tensorflow as tf\n",
    "model = T5ForConditionalGeneration.from_pretrained('ramsrigouthamg/t5_squad_v1')\n",
    "tknizer = AutoTokenizer.from_pretrained('ramsrigouthamg/t5_squad_v1')\n",
    "device = torch.device(\"cuda:0\" if torch.cuda.is_available() else \"cpu\")\n",
    "print(device)\n",
    "# model = model.to(device)\n",
    "model.cuda()\n",
    "dataset = list()\n",
    "df = df.drop_duplicates(subset=[\"parenthetical\"])\n",
    "\n",
    "progress_bar = tf.keras.utils.Progbar(\n",
    "    len(df),\n",
    "    width=30,\n",
    "    verbose=1,\n",
    "    interval=0.05,\n",
    "    stateful_metrics=None,\n",
    "    unit_name='step'\n",
    ")\n",
    "\n",
    "for row in df.iterrows():\n",
    "    text = \"context: {} answer: {}\".format(row[1][\"context\"], row[1][\"parenthetical\"], )\n",
    "    max_len = 256\n",
    "    encoding = tknizer.encode_plus(text,max_length=max_len, pad_to_max_length=False,truncation=True, return_tensors=\"pt\")\n",
    "\n",
    "    input_ids, attention_mask = encoding[\"input_ids\"], encoding[\"attention_mask\"]\n",
    "    input_ids = input_ids.to(device)\n",
    "    attention_mask = attention_mask.to(device)\n",
    "\n",
    "    outs = model.generate(input_ids=input_ids,\n",
    "                          attention_mask=attention_mask,\n",
    "                          early_stopping=True,\n",
    "                          num_beams=5,\n",
    "                          num_return_sequences=5,\n",
    "                          no_repeat_ngram_size=2,\n",
    "                          max_length=300)\n",
    "\n",
    "\n",
    "    dec = [tknizer.decode(ids,skip_special_tokens=True) for ids in outs]\n",
    "\n",
    "    dataset.append({\"question\": dec[0].replace('question:','').strip(), \"answer\": row[1]['parenthetical']})\n",
    "    dataset.append({\"question\": dec[1].replace('question:','').strip(), \"answer\": row[1]['parenthetical']})\n",
    "    progress_bar.update(row[0])"
   ]
  },
  {
   "cell_type": "code",
   "execution_count": 32,
   "metadata": {},
   "outputs": [
    {
     "data": {
      "text/html": [
       "<div>\n",
       "<style scoped>\n",
       "    .dataframe tbody tr th:only-of-type {\n",
       "        vertical-align: middle;\n",
       "    }\n",
       "\n",
       "    .dataframe tbody tr th {\n",
       "        vertical-align: top;\n",
       "    }\n",
       "\n",
       "    .dataframe thead th {\n",
       "        text-align: right;\n",
       "    }\n",
       "</style>\n",
       "<table border=\"1\" class=\"dataframe\">\n",
       "  <thead>\n",
       "    <tr style=\"text-align: right;\">\n",
       "      <th></th>\n",
       "      <th>question</th>\n",
       "      <th>answer</th>\n",
       "      <th>identifier</th>\n",
       "      <th>sentence</th>\n",
       "    </tr>\n",
       "  </thead>\n",
       "  <tbody>\n",
       "    <tr>\n",
       "      <th>0</th>\n",
       "      <td>Witnesses are absolutely immune for the testim...</td>\n",
       "      <td>holding that while witnesses enjoy absolute im...</td>\n",
       "      <td>25 F.3d 83, 83</td>\n",
       "      <td>Malachowski, 787 F.2d at 712; see also Dory, 2...</td>\n",
       "    </tr>\n",
       "    <tr>\n",
       "      <th>1</th>\n",
       "      <td>Witnesses are absolutely immune for the testim...</td>\n",
       "      <td>holding that while witnesses enjoy absolute im...</td>\n",
       "      <td>25 F.3d 83, 83</td>\n",
       "      <td>Malachowski, 787 F.2d at 712; see also Dory, 2...</td>\n",
       "    </tr>\n",
       "    <tr>\n",
       "      <th>2</th>\n",
       "      <td>We exercise de novo review over a district cou...</td>\n",
       "      <td>conducting a de novo review in determining the...</td>\n",
       "      <td>489 F.2d 661, 662-63</td>\n",
       "      <td>See Barrows v. Barrows, 489 F.2d 661, 662-63 (...</td>\n",
       "    </tr>\n",
       "    <tr>\n",
       "      <th>3</th>\n",
       "      <td>What do we exercise de novo review over a dist...</td>\n",
       "      <td>conducting a de novo review in determining the...</td>\n",
       "      <td>489 F.2d 661, 662-63</td>\n",
       "      <td>See Barrows v. Barrows, 489 F.2d 661, 662-63 (...</td>\n",
       "    </tr>\n",
       "    <tr>\n",
       "      <th>4</th>\n",
       "      <td>We do not reach the merits of the issues raise...</td>\n",
       "      <td>recognizing federal court's duty to determine ...</td>\n",
       "      <td>859 F.2d 842, 844</td>\n",
       "      <td>Auto. Ass’n, 859 F.2d 842, 844 (10th Cir. 1988...</td>\n",
       "    </tr>\n",
       "    <tr>\n",
       "      <th>5</th>\n",
       "      <td>We do not reach the merits of the issues raise...</td>\n",
       "      <td>recognizing federal court's duty to determine ...</td>\n",
       "      <td>859 F.2d 842, 844</td>\n",
       "      <td>Auto. Ass’n, 859 F.2d 842, 844 (10th Cir. 1988...</td>\n",
       "    </tr>\n",
       "    <tr>\n",
       "      <th>6</th>\n",
       "      <td>What is required to \"cause\" the presentation o...</td>\n",
       "      <td>doctor caused false claims to be submitted to ...</td>\n",
       "      <td>261 F.3d 827, 827</td>\n",
       "      <td>Mackby, 261 F.3d at 827 (doctor caused false c...</td>\n",
       "    </tr>\n",
       "    <tr>\n",
       "      <th>7</th>\n",
       "      <td>What is required to \"cause\" the presentation o...</td>\n",
       "      <td>doctor caused false claims to be submitted to ...</td>\n",
       "      <td>261 F.3d 827, 827</td>\n",
       "      <td>Mackby, 261 F.3d at 827 (doctor caused false c...</td>\n",
       "    </tr>\n",
       "    <tr>\n",
       "      <th>8</th>\n",
       "      <td>Some degree of participation in the claims pro...</td>\n",
       "      <td>defendant liable where he delegated to his wif...</td>\n",
       "      <td>111 F.3d 943, 943</td>\n",
       "      <td>Mackby, 261 F.3d at 827 (doctor caused false c...</td>\n",
       "    </tr>\n",
       "    <tr>\n",
       "      <th>9</th>\n",
       "      <td>Some degree of participation in the claims pro...</td>\n",
       "      <td>defendant liable where he delegated to his wif...</td>\n",
       "      <td>111 F.3d 943, 943</td>\n",
       "      <td>Mackby, 261 F.3d at 827 (doctor caused false c...</td>\n",
       "    </tr>\n",
       "    <tr>\n",
       "      <th>10</th>\n",
       "      <td>How many arrests did Officer Holloway make in ...</td>\n",
       "      <td>\"Deputy Justice had[ ] ... reasonable suspicio...</td>\n",
       "      <td>199 F.3d 1143, 1148</td>\n",
       "      <td>See United States v. Hill, 199 F.3d 1143, 1148...</td>\n",
       "    </tr>\n",
       "    <tr>\n",
       "      <th>11</th>\n",
       "      <td>How many arrests did Officer Holloway make in ...</td>\n",
       "      <td>\"Deputy Justice had[ ] ... reasonable suspicio...</td>\n",
       "      <td>199 F.3d 1143, 1148</td>\n",
       "      <td>See United States v. Hill, 199 F.3d 1143, 1148...</td>\n",
       "    </tr>\n",
       "  </tbody>\n",
       "</table>\n",
       "</div>"
      ],
      "text/plain": [
       "                                             question  \\\n",
       "0   Witnesses are absolutely immune for the testim...   \n",
       "1   Witnesses are absolutely immune for the testim...   \n",
       "2   We exercise de novo review over a district cou...   \n",
       "3   What do we exercise de novo review over a dist...   \n",
       "4   We do not reach the merits of the issues raise...   \n",
       "5   We do not reach the merits of the issues raise...   \n",
       "6   What is required to \"cause\" the presentation o...   \n",
       "7   What is required to \"cause\" the presentation o...   \n",
       "8   Some degree of participation in the claims pro...   \n",
       "9   Some degree of participation in the claims pro...   \n",
       "10  How many arrests did Officer Holloway make in ...   \n",
       "11  How many arrests did Officer Holloway make in ...   \n",
       "\n",
       "                                               answer            identifier  \\\n",
       "0   holding that while witnesses enjoy absolute im...        25 F.3d 83, 83   \n",
       "1   holding that while witnesses enjoy absolute im...        25 F.3d 83, 83   \n",
       "2   conducting a de novo review in determining the...  489 F.2d 661, 662-63   \n",
       "3   conducting a de novo review in determining the...  489 F.2d 661, 662-63   \n",
       "4   recognizing federal court's duty to determine ...     859 F.2d 842, 844   \n",
       "5   recognizing federal court's duty to determine ...     859 F.2d 842, 844   \n",
       "6   doctor caused false claims to be submitted to ...     261 F.3d 827, 827   \n",
       "7   doctor caused false claims to be submitted to ...     261 F.3d 827, 827   \n",
       "8   defendant liable where he delegated to his wif...     111 F.3d 943, 943   \n",
       "9   defendant liable where he delegated to his wif...     111 F.3d 943, 943   \n",
       "10  \"Deputy Justice had[ ] ... reasonable suspicio...   199 F.3d 1143, 1148   \n",
       "11  \"Deputy Justice had[ ] ... reasonable suspicio...   199 F.3d 1143, 1148   \n",
       "\n",
       "                                             sentence  \n",
       "0   Malachowski, 787 F.2d at 712; see also Dory, 2...  \n",
       "1   Malachowski, 787 F.2d at 712; see also Dory, 2...  \n",
       "2   See Barrows v. Barrows, 489 F.2d 661, 662-63 (...  \n",
       "3   See Barrows v. Barrows, 489 F.2d 661, 662-63 (...  \n",
       "4   Auto. Ass’n, 859 F.2d 842, 844 (10th Cir. 1988...  \n",
       "5   Auto. Ass’n, 859 F.2d 842, 844 (10th Cir. 1988...  \n",
       "6   Mackby, 261 F.3d at 827 (doctor caused false c...  \n",
       "7   Mackby, 261 F.3d at 827 (doctor caused false c...  \n",
       "8   Mackby, 261 F.3d at 827 (doctor caused false c...  \n",
       "9   Mackby, 261 F.3d at 827 (doctor caused false c...  \n",
       "10  See United States v. Hill, 199 F.3d 1143, 1148...  \n",
       "11  See United States v. Hill, 199 F.3d 1143, 1148...  "
      ]
     },
     "execution_count": 32,
     "metadata": {},
     "output_type": "execute_result"
    }
   ],
   "source": [
    "pd.DataFrame(dataset).to_csv(\"train_df.csv\")"
   ]
  }
 ],
 "metadata": {
  "kernelspec": {
   "display_name": "ece",
   "language": "python",
   "name": "python3"
  },
  "language_info": {
   "codemirror_mode": {
    "name": "ipython",
    "version": 3
   },
   "file_extension": ".py",
   "mimetype": "text/x-python",
   "name": "python",
   "nbconvert_exporter": "python",
   "pygments_lexer": "ipython3",
   "version": "3.10.11"
  },
  "orig_nbformat": 4
 },
 "nbformat": 4,
 "nbformat_minor": 2
}
